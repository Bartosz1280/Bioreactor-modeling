{
 "cells": [
  {
   "cell_type": "markdown",
   "id": "0850a4e3-051e-4987-8ee7-ea12d68df217",
   "metadata": {},
   "source": [
    "# ScriptaFervere example workflow"
   ]
  },
  {
   "cell_type": "markdown",
   "id": "52fd9acd-939b-4983-89e2-c399aeedd594",
   "metadata": {},
   "source": [
    "The notebook present a simple modeling scenario that is handled by two classes fo ScriptaFervere: SimluationInput and Simple culture. The aim is to present some basic functionalities of the library, before heading to more extened usage.\n",
    "\n",
    "First we import needed packages"
   ]
  },
  {
   "cell_type": "code",
   "execution_count": 1,
   "id": "362c729f-2f28-4f75-a06c-f197e3c8ff3c",
   "metadata": {},
   "outputs": [],
   "source": [
    "import ScriptaFervere\n",
    "from ScriptaFervere.Models import SimpleCulture\n",
    "from ScriptaFervere.SimulationInput import SimulationInput\n",
    "import numpy as np"
   ]
  },
  {
   "cell_type": "markdown",
   "id": "1f6a4735-c9af-49d1-a357-8a271ac1ef26",
   "metadata": {},
   "source": [
    "In the first step we will initiate a SimulationInput instance. This class serves as a place where all parameters and equations aredefined and manipulated before being passed to instance from Models package.\n",
    "\n",
    "In general when using SciptaFevere rules regarding notations, have to be scritly follwed, to ensure that everything is handled and loaded correctly. Thank to the notation classes can identify if the variable is a constants, parameter or the equation.\n",
    "\n",
    "Notation rules can be summarized as follow:\n",
    "\n",
    "    * Contants in most cases have a capital letter separated from one or multiple lowercases letters with a underscore:\n",
    "        * K_s\n",
    "        * Y_xs\n",
    "        * K_i\n",
    "    * Variables for initial conditions ( t=0 ) are denoted as a capital letter seprated from 0 with a underscore:\n",
    "        * X_0\n",
    "        * S_0\n",
    "    * ODEs are denoted in d?dt where ? shall be the same as a capital letter specified as a varible:\n",
    "        * dSdt\n",
    "        * dXdt\n",
    "    * Some exaptions:\n",
    "        * mu_max - is a contants denoted with lowecase letters\n",
    "        * mu - is an intermediate equation \n",
    "\n",
    "Numerical values can be passed as intigers or floats with regular or sceintific notation.\n",
    "\n",
    "Equations are passed as strings.\n",
    "\n",
    "Equation for mu can be either passed manually or chosen from a list of implemented growth models by passing a string ( more on different \n",
    "growth models in next notebooks)\n",
    "\n",
    "It importnat to mention that ScriptaFeverve does not percetps units, thus needed transformations ( like hours to minute, gram to kilogram) have to be done before passing values to SimulationInput instance."
   ]
  },
  {
   "cell_type": "code",
   "execution_count": 2,
   "id": "0b9df2c0-83fb-4e40-83f9-bab10ce24225",
   "metadata": {},
   "outputs": [],
   "source": [
    "sim_input = SimulationInput(\n",
    "                mu_max = 0.86, K_s = 0.0138,\n",
    "                Y_xs = 1.28, K_d = 3.3e-3, \n",
    "                X_0 = 0.005, \n",
    "                #S_0 = 0.07,\n",
    "                growth= \"monod_substrate\",\n",
    "                #dSdt =\"-1/Y_xs * mu * X\",\n",
    "                dXdt=\"mu * X - K_d\")"
   ]
  },
  {
   "cell_type": "markdown",
   "id": "d051ef49-9169-4920-8f18-c023b3d58fa6",
   "metadata": {},
   "source": [
    "To quick check what is in the input, the instance can be printed out.\n",
    "\n",
    "As you can see in the first chunk number of constans, variables and equations are listed with number of defined. By default SimulationInput holds a list of some common variables and constants so you might quick check what might be missing."
   ]
  },
  {
   "cell_type": "code",
   "execution_count": 3,
   "id": "0e34eac6-a75a-4a92-b983-08e115c2de0b",
   "metadata": {},
   "outputs": [
    {
     "name": "stdout",
     "output_type": "stream",
     "text": [
      "SimulationInput instance \n",
      "=========================\n",
      "11 constants, with 4 defined.\n",
      "3 variables, with 1 defined.\n",
      "3 equations, with 2 defined.\n",
      "\n",
      "Variables at t_0\n",
      "=========================\n",
      " X_0 = 0.005\n",
      "\n",
      "Equations\n",
      "=========================\n",
      " mu =  ( mu_max * S )  /  ( K_s + S ) \n",
      " dXdt = mu * X - K_d\n",
      " dSdt  is Undefined!\n",
      "\n",
      "Constans\n",
      "=========================\n",
      " Y_xs = 1.28\n",
      " K_d = 0.0033\n",
      " mu_max = 0.86\n",
      " K_s = 0.0138\n",
      "\n",
      "Not specified constants\n",
      "=========================\n",
      "K_i ;m ;n ;X_m ;S_m ;K_1 ;K_2\n",
      "\n",
      "Not specified variables\n",
      "=========================\n",
      "S_0 ;P_0\n"
     ]
    }
   ],
   "source": [
    "print(sim_input)"
   ]
  },
  {
   "cell_type": "markdown",
   "id": "d59e6644-17e0-43bf-b264-29e22eb56e5c",
   "metadata": {},
   "source": [
    "sim_input"
   ]
  },
  {
   "cell_type": "markdown",
   "id": "fb2fd4ed-05e3-4078-bdee-80f0a24e7113",
   "metadata": {},
   "source": [
    "Now all passed variables and contatns can be acceses using SimulationInput attributes."
   ]
  },
  {
   "cell_type": "code",
   "execution_count": 4,
   "id": "338ab07b-05e8-4c73-858a-c34ff0792c69",
   "metadata": {},
   "outputs": [
    {
     "name": "stdout",
     "output_type": "stream",
     "text": [
      "{'Y_xs': 1.28, 'K_d': 0.0033, 'mu_max': 0.86, 'K_i': None, 'm': None, 'n': None, 'K_s': 0.0138, 'X_m': None, 'S_m': None, 'K_1': None, 'K_2': None} \n",
      "\n",
      "{'X_0': 0.005, 'S_0': None, 'P_0': None} \n",
      "\n"
     ]
    }
   ],
   "source": [
    "print(sim_input.constants ,\"\\n\")\n",
    "print(sim_input.variables ,\"\\n\")"
   ]
  },
  {
   "cell_type": "markdown",
   "id": "34419dac-0bc0-4fcb-82b3-511e8c8b7415",
   "metadata": {},
   "source": [
    "In the initalization done a few steps before initial subtrate concentation (S_0) as well as the ODE for substrate changed were not defined, making a model incomplete.\n",
    "\n",
    "We can add variables like with regular dictionary ( the same comes to contants) but for equation a add_equation() has to be used.\n",
    "\n",
    "It's important to pass an equation in correct format, otherwise an error will be rised."
   ]
  },
  {
   "cell_type": "code",
   "execution_count": 5,
   "id": "49a334d0-d249-415e-b8b3-210127a7d7ec",
   "metadata": {},
   "outputs": [],
   "source": [
    "sim_input.variables[\"S_0\"] = 0.07"
   ]
  },
  {
   "cell_type": "code",
   "execution_count": 6,
   "id": "8393ed2d-b9a4-4599-a815-d6e90a6e36d3",
   "metadata": {},
   "outputs": [
    {
     "name": "stdout",
     "output_type": "stream",
     "text": [
      "> dSdt =  - 1 / Y_xs * mu * X was added\n"
     ]
    }
   ],
   "source": [
    "sim_input.add_equation(\"dSdt = -1/Y_xs * mu * X\")"
   ]
  },
  {
   "cell_type": "code",
   "execution_count": 7,
   "id": "bc5f9127-8192-4929-8a71-e431874f0b01",
   "metadata": {},
   "outputs": [
    {
     "name": "stdout",
     "output_type": "stream",
     "text": [
      "SimulationInput instance \n",
      "=========================\n",
      "11 constants, with 4 defined.\n",
      "3 variables, with 2 defined.\n",
      "3 equations, with 3 defined.\n",
      "\n",
      "Variables at t_0\n",
      "=========================\n",
      " X_0 = 0.005\n",
      " S_0 = 0.07\n",
      "\n",
      "Equations\n",
      "=========================\n",
      " mu =  ( mu_max * S )  /  ( K_s + S ) \n",
      " dXdt = mu * X - K_d\n",
      " dSdt =  - 1 / Y_xs * mu * X\n",
      "\n",
      "Constans\n",
      "=========================\n",
      " Y_xs = 1.28\n",
      " K_d = 0.0033\n",
      " mu_max = 0.86\n",
      " K_s = 0.0138\n",
      "\n",
      "Not specified constants\n",
      "=========================\n",
      "K_i ;m ;n ;X_m ;S_m ;K_1 ;K_2\n",
      "\n",
      "Not specified variables\n",
      "=========================\n",
      "P_0\n"
     ]
    }
   ],
   "source": [
    "print(sim_input)"
   ]
  },
  {
   "cell_type": "code",
   "execution_count": 8,
   "id": "bea667d3-39bb-45ff-bd0a-52cbdba46e35",
   "metadata": {},
   "outputs": [],
   "source": [
    "#inputs = test_SimulationInput.get_inputs()\n",
    "time_arr = np.linspace(0,15,1000)\n",
    "culture = SimpleCulture(time_arr, sim_input.get_inputs(), name=\"ExampleCulture\")"
   ]
  },
  {
   "cell_type": "code",
   "execution_count": 9,
   "id": "85d6289c-d75c-4b7f-a6d7-dc46b1669492",
   "metadata": {},
   "outputs": [
    {
     "data": {
      "text/plain": [
       "<gekko.gekko.GEKKO at 0x7f5b74172300>"
      ]
     },
     "execution_count": 9,
     "metadata": {},
     "output_type": "execute_result"
    }
   ],
   "source": [
    "culture.model"
   ]
  },
  {
   "cell_type": "code",
   "execution_count": null,
   "id": "ebb714c3-c498-4956-a2bd-9955127f8c1f",
   "metadata": {},
   "outputs": [
    {
     "name": "stdout",
     "output_type": "stream",
     "text": [
      " ----------------------------------------------------------------\n",
      " APMonitor, Version 1.0.1\n",
      " APMonitor Optimization Suite\n",
      " ----------------------------------------------------------------\n",
      " \n",
      " \n",
      " --------- APM Model Size ------------\n",
      " Each time step contains\n",
      "   Objects      :            0\n",
      "   Constants    :            4\n",
      "   Variables    :            2\n",
      "   Intermediates:            3\n",
      "   Connections  :            0\n",
      "   Equations    :            6\n",
      "   Residuals    :            3\n",
      " \n",
      " --- Begin Pre-solve  -----------------------\n",
      "  Original nvar:         7992\n",
      "  Original neqn:         7992\n",
      "  Pre-solve turn off DOF\n",
      "  Pre-solve Variables:         7992\n",
      "  Pre-solve Equations:         7992\n",
      "  --- Solve block size:           16\n",
      " ----------------------------------------------\n",
      " Dynamic Simulation with APOPT Solver\n",
      " ----------------------------------------------\n",
      " \n",
      " Iter    Objective  Convergence\n",
      "    0  6.60556E-29  2.80616E-03\n",
      "    1  6.60556E-29  2.80616E-03\n",
      " Successful solution\n",
      " \n",
      " ---------------------------------------------------\n",
      " Presolve total time  :   5.479999998351559E-002 sec\n",
      " ---------------------------------------------------\n",
      " \n",
      "  --- Solve block size:           32\n",
      " ----------------------------------------------\n",
      " Dynamic Simulation with APOPT Solver\n",
      " ----------------------------------------------\n",
      " \n",
      " Iter    Objective  Convergence\n",
      "    0  5.40277E-28  4.21841E-05\n",
      "    1  5.40277E-28  4.21841E-05\n",
      " Successful solution\n",
      " \n",
      " ---------------------------------------------------\n",
      " Presolve total time  :   9.289999998873100E-002 sec\n",
      " ---------------------------------------------------\n",
      " \n",
      "  --- Solve block size:           64\n",
      " ----------------------------------------------\n",
      " Dynamic Simulation with APOPT Solver\n",
      " ----------------------------------------------\n",
      " \n",
      " Iter    Objective  Convergence\n",
      "    0  3.85500E-27  4.23200E-05\n",
      "    1  3.85500E-27  4.23200E-05\n",
      " Successful solution\n",
      " \n",
      " ---------------------------------------------------\n",
      " Presolve total time  :   0.130399999994552      sec\n",
      " ---------------------------------------------------\n",
      " \n",
      "  --- Solve block size:          128\n",
      " ----------------------------------------------\n",
      " Dynamic Simulation with APOPT Solver\n",
      " ----------------------------------------------\n",
      " \n",
      " Iter    Objective  Convergence\n",
      "    0  3.12220E-26  4.26095E-05\n",
      "    1  3.12220E-26  4.26095E-05\n",
      " Successful solution\n",
      " \n",
      " ---------------------------------------------------\n",
      " Presolve total time  :   0.168099999980768      sec\n",
      " ---------------------------------------------------\n",
      " \n",
      "  --- Solve block size:          256\n",
      " ----------------------------------------------\n",
      " Dynamic Simulation with APOPT Solver\n",
      " ----------------------------------------------\n",
      " \n",
      " Iter    Objective  Convergence\n",
      "    0  2.95014E-25  4.32661E-05\n",
      "    1  2.95014E-25  4.32661E-05\n",
      " Successful solution\n",
      " \n",
      " ---------------------------------------------------\n",
      " Presolve total time  :   0.206500000000233      sec\n",
      " ---------------------------------------------------\n",
      " \n",
      "  --- Solve block size:          512\n",
      " ----------------------------------------------\n",
      " Dynamic Simulation with APOPT Solver\n",
      " ----------------------------------------------\n",
      " \n",
      " Iter    Objective  Convergence\n",
      "    0  3.71691E-24  4.49579E-05\n",
      "    1  1.65630E-30  5.25211E-06\n",
      "    2  1.65630E-30  5.25211E-06\n",
      " Successful solution\n",
      " \n",
      " ---------------------------------------------------\n",
      " Presolve total time  :   0.262600000016391      sec\n",
      " ---------------------------------------------------\n",
      " \n",
      "  --- Solve block size:         1024\n",
      " ----------------------------------------------\n",
      " Dynamic Simulation with APOPT Solver\n",
      " ----------------------------------------------\n",
      " \n",
      " Iter    Objective  Convergence\n",
      "    0  9.70556E-23  5.05284E-05\n",
      "    1  3.24239E-27  8.14906E-05\n",
      "    2  3.24239E-27  8.14906E-05\n",
      " Successful solution\n",
      " \n",
      " ---------------------------------------------------\n",
      " Presolve total time  :   0.321800000005169      sec\n",
      " ---------------------------------------------------\n",
      " \n",
      "  --- Solve block size:         2048\n",
      " ----------------------------------------------\n",
      " Dynamic Simulation with APOPT Solver\n",
      " ----------------------------------------------\n",
      " \n",
      " Iter    Objective  Convergence\n",
      "    0  4.02731E-20  8.11496E-05\n",
      "    1  5.07027E-21  2.01418E-02\n",
      "    2  2.92596E-23  1.57144E-02\n",
      "    3  4.32597E-28  2.08571E-04\n",
      "    4  4.32597E-28  2.08571E-04\n",
      " Successful solution\n",
      " \n",
      " ---------------------------------------------------\n",
      " Presolve total time  :   0.431400000001304      sec\n",
      " ---------------------------------------------------\n",
      " \n",
      "  --- Solve block size:         3912\n",
      " ----------------------------------------------\n",
      " Dynamic Simulation with APOPT Solver\n",
      " ----------------------------------------------\n",
      " \n",
      " Iter    Objective  Convergence\n",
      "    0  3.05827E-20  2.57070E-04\n",
      "    1  4.18594E-20  2.51008E-02\n",
      "    2  5.32378E-22  2.50504E-03\n",
      "    3  2.03190E-24  2.04972E-04\n",
      "    4  2.03190E-24  2.04972E-04\n",
      " Successful solution\n",
      " \n",
      " ---------------------------------------------------\n",
      " Presolve total time  :    3.82589999999618      sec\n",
      " ---------------------------------------------------\n",
      " \n",
      " Successful Pre-solve Solution\n",
      " --- End Pre-solve -----------------------------------\n",
      " \n",
      "\n",
      "Error: 'results.json' not found. Check above for additional error details\n"
     ]
    },
    {
     "name": "stderr",
     "output_type": "stream",
     "text": [
      "\n",
      "** (pcmanfm:1990): WARNING **: 04:07:12.744: XDG_TEMPLATES_DIR is set to invalid path, ignoring it\n",
      "\n",
      "(pcmanfm:1990): GLib-GIO-CRITICAL **: 04:07:13.035: GFileInfo created without standard::edit-name\n",
      "\n",
      "(pcmanfm:1990): GLib-GIO-CRITICAL **: 04:07:13.035: file ../glib/gio/gfileinfo.c: line 1743 (g_file_info_get_edit_name): should not be reached\n",
      "\n",
      "(pcmanfm:1990): GLib-GIO-CRITICAL **: 04:07:13.035: GFileInfo created without standard::size\n",
      "\n",
      "(pcmanfm:1990): GLib-GIO-CRITICAL **: 04:07:13.035: file ../glib/gio/gfileinfo.c: line 1846 (g_file_info_get_size): should not be reached\n",
      "\n",
      "(pcmanfm:1990): GLib-GIO-CRITICAL **: 04:07:13.035: GFileInfo created without standard::is-symlink\n",
      "\n",
      "(pcmanfm:1990): GLib-GIO-CRITICAL **: 04:07:13.035: file ../glib/gio/gfileinfo.c: line 1677 (g_file_info_get_is_symlink): should not be reached\n",
      "\n",
      "(pcmanfm:1990): GLib-GIO-CRITICAL **: 04:07:13.035: GFileInfo created without standard::is-hidden\n",
      "\n",
      "(pcmanfm:1990): GLib-GIO-CRITICAL **: 04:07:13.035: file ../glib/gio/gfileinfo.c: line 1633 (g_file_info_get_is_hidden): should not be reached\n",
      "\n",
      "(pcmanfm:1990): GLib-GIO-CRITICAL **: 04:07:13.035: GFileInfo created without standard::is-backup\n",
      "\n",
      "(pcmanfm:1990): GLib-GIO-CRITICAL **: 04:07:13.035: file ../glib/gio/gfileinfo.c: line 1655 (g_file_info_get_is_backup): should not be reached\n",
      "\n",
      "(pcmanfm:1990): GLib-GIO-CRITICAL **: 04:07:13.036: GFileInfo created without standard::edit-name\n",
      "\n",
      "(pcmanfm:1990): GLib-GIO-CRITICAL **: 04:07:13.036: file ../glib/gio/gfileinfo.c: line 1743 (g_file_info_get_edit_name): should not be reached\n",
      "\n",
      "(pcmanfm:1990): GLib-GIO-CRITICAL **: 04:07:13.036: GFileInfo created without standard::size\n",
      "\n",
      "(pcmanfm:1990): GLib-GIO-CRITICAL **: 04:07:13.036: file ../glib/gio/gfileinfo.c: line 1846 (g_file_info_get_size): should not be reached\n",
      "\n",
      "(pcmanfm:1990): GLib-GIO-CRITICAL **: 04:07:13.036: GFileInfo created without standard::content-type\n",
      "\n",
      "(pcmanfm:1990): GLib-GIO-CRITICAL **: 04:07:13.036: file ../glib/gio/gfileinfo.c: line 1822 (g_file_info_get_content_type): should not be reached\n",
      "\n",
      "(pcmanfm:1990): GLib-GIO-CRITICAL **: 04:07:13.036: GFileInfo created without standard::is-symlink\n",
      "\n",
      "(pcmanfm:1990): GLib-GIO-CRITICAL **: 04:07:13.036: file ../glib/gio/gfileinfo.c: line 1677 (g_file_info_get_is_symlink): should not be reached\n",
      "\n",
      "(pcmanfm:1990): GLib-GIO-CRITICAL **: 04:07:13.036: GFileInfo created without standard::is-backup\n",
      "\n",
      "(pcmanfm:1990): GLib-GIO-CRITICAL **: 04:07:13.036: file ../glib/gio/gfileinfo.c: line 1655 (g_file_info_get_is_backup): should not be reached\n",
      "\n",
      "(pcmanfm:1990): Gtk-WARNING **: 04:07:13.038: Theme parsing error: <data>:2:27: The style property GtkWidget:focus-padding is deprecated and shouldn't be used anymore. It will be removed in a future version\n",
      "\n",
      "(pcmanfm:1990): Gtk-WARNING **: 04:07:13.038: Theme parsing error: <data>:3:30: The style property GtkWidget:focus-line-width is deprecated and shouldn't be used anymore. It will be removed in a future version\n"
     ]
    }
   ],
   "source": [
    "culture.solve()"
   ]
  },
  {
   "cell_type": "code",
   "execution_count": null,
   "id": "1670a0bc-daf1-430b-8c82-69bbbbba9956",
   "metadata": {},
   "outputs": [],
   "source": [
    "import matplotlib.pyplot as plt"
   ]
  },
  {
   "cell_type": "code",
   "execution_count": null,
   "id": "38afb893-e85e-4b2d-ac70-bca0dedcaf0d",
   "metadata": {},
   "outputs": [],
   "source": [
    "fig = plt.figure()\n",
    "ax = fig.add_subplot()\n",
    "fig.suptitle('Change of Batch-bioreactor overtime', fontsize=14, fontweight='bold')\n",
    "#ax.set_title(f'$t_n$={len(self.model.time)}')\n",
    "ax.plot(culture.model.time, culture.S.value,label='S - subtrate')\n",
    "ax.plot(culture.model.time, culture.X.value,label='X - biomass')"
   ]
  },
  {
   "cell_type": "code",
   "execution_count": null,
   "id": "1c4138a4-c578-4d2b-aef5-d2d1a1c06859",
   "metadata": {},
   "outputs": [],
   "source": [
    "culture.X"
   ]
  },
  {
   "cell_type": "code",
   "execution_count": null,
   "id": "55dfbf1e-d4dd-425b-a4a6-1d23e416caf3",
   "metadata": {},
   "outputs": [],
   "source": []
  }
 ],
 "metadata": {
  "kernelspec": {
   "display_name": "Python 3 (ipykernel)",
   "language": "python",
   "name": "python3"
  },
  "language_info": {
   "codemirror_mode": {
    "name": "ipython",
    "version": 3
   },
   "file_extension": ".py",
   "mimetype": "text/x-python",
   "name": "python",
   "nbconvert_exporter": "python",
   "pygments_lexer": "ipython3",
   "version": "3.12.0"
  }
 },
 "nbformat": 4,
 "nbformat_minor": 5
}
